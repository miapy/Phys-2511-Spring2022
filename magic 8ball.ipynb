{
 "cells": [
  {
   "cell_type": "code",
   "execution_count": 1,
   "id": "126233da",
   "metadata": {
    "scrolled": false
   },
   "outputs": [
    {
     "name": "stdout",
     "output_type": "stream",
     "text": [
      "hel\n"
     ]
    }
   ],
   "source": []
  },
  {
   "cell_type": "code",
   "execution_count": 6,
   "id": "bd62fc68",
   "metadata": {},
   "outputs": [
    {
     "ename": "SyntaxError",
     "evalue": "invalid syntax (1754246346.py, line 3)",
     "output_type": "error",
     "traceback": [
      "\u001b[0;36m  File \u001b[0;32m\"/var/folders/7m/yrsq0mmn6rjd0v_zdq3wwl580000gn/T/ipykernel_26194/1754246346.py\"\u001b[0;36m, line \u001b[0;32m3\u001b[0m\n\u001b[0;31m    print(x) if y=input()\u001b[0m\n\u001b[0m                 ^\u001b[0m\n\u001b[0;31mSyntaxError\u001b[0m\u001b[0;31m:\u001b[0m invalid syntax\n"
     ]
    }
   ],
   "source": []
  },
  {
   "cell_type": "code",
   "execution_count": null,
   "id": "914b1c65",
   "metadata": {},
   "outputs": [
    {
     "name": "stdout",
     "output_type": "stream",
     "text": [
      "ask a yes or no question to know your fate:\n",
      "HELLO?\n",
      "your question was: HELLO?\n",
      "thinking...\n",
      "i claim: time will tell\n",
      "ask a yes or no question to know your fate:\n"
     ]
    }
   ],
   "source": [
    "import random as ra\n",
    "import time as ti\n",
    "run=True\n",
    "while run:\n",
    "    ti.sleep(2)\n",
    "    print(\"ask a yes or no question to know your fate:\")\n",
    "    ti.sleep(.5)\n",
    "    x=input()\n",
    "    print(\"your question was: \"+ x)\n",
    "    ti.sleep(1)\n",
    "    print(\"thinking...\")\n",
    "\n",
    "    ti.sleep(1)\n",
    "    my_list=[\"yes\",\"no\",\"ofcourse not!\",\"time will tell\",\"why are you asking a robot?\",\"definitviley yes\"]\n",
    "\n",
    "    print(\"i claim: \" + ra.choice(my_list))\n",
    "    \n",
    "    \n",
    "\n",
    "\n",
    "\n"
   ]
  },
  {
   "cell_type": "code",
   "execution_count": null,
   "id": "eb17cda7",
   "metadata": {},
   "outputs": [],
   "source": []
  },
  {
   "cell_type": "code",
   "execution_count": null,
   "id": "ba04fd7f",
   "metadata": {},
   "outputs": [],
   "source": []
  },
  {
   "cell_type": "code",
   "execution_count": null,
   "id": "7a8bc697",
   "metadata": {},
   "outputs": [],
   "source": []
  }
 ],
 "metadata": {
  "kernelspec": {
   "display_name": "Python 3 (ipykernel)",
   "language": "python",
   "name": "python3"
  },
  "language_info": {
   "codemirror_mode": {
    "name": "ipython",
    "version": 3
   },
   "file_extension": ".py",
   "mimetype": "text/x-python",
   "name": "python",
   "nbconvert_exporter": "python",
   "pygments_lexer": "ipython3",
   "version": "3.9.13"
  }
 },
 "nbformat": 4,
 "nbformat_minor": 5
}
